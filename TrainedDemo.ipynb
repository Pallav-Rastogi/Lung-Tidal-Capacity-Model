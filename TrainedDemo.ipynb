{
 "cells": [
  {
   "cell_type": "code",
   "execution_count": 2,
   "metadata": {},
   "outputs": [],
   "source": [
    "import numpy as np\n",
    "import joblib\n",
    "\n",
    "model = joblib.load(\"LinRegMODELpallav.pkl\")\n",
    "weights = model.coef_\n",
    "bias = model.intercept_"
   ]
  },
  {
   "cell_type": "code",
   "execution_count": 3,
   "metadata": {},
   "outputs": [],
   "source": [
    "def predict(age, height, smoke, gender):\n",
    "    x = np.array([age, gender=='female',height,smoke=='no'])\n",
    "    print(np.dot(x,weights) + bias)"
   ]
  },
  {
   "cell_type": "code",
   "execution_count": 6,
   "metadata": {},
   "outputs": [
    {
     "name": "stdout",
     "output_type": "stream",
     "text": [
      "11.750891375723118\n",
      "11.603914714734877\n",
      "12.160921029022905\n"
     ]
    }
   ],
   "source": [
    "predict(21, 75, 'no', 'female')\n",
    "predict(21, 75, 'yes', 'male')\n",
    "predict(21, 75, 'no', 'male')"
   ]
  },
  {
   "cell_type": "code",
   "execution_count": null,
   "metadata": {},
   "outputs": [],
   "source": []
  }
 ],
 "metadata": {
  "kernelspec": {
   "display_name": "Python 3",
   "language": "python",
   "name": "python3"
  },
  "language_info": {
   "codemirror_mode": {
    "name": "ipython",
    "version": 3
   },
   "file_extension": ".py",
   "mimetype": "text/x-python",
   "name": "python",
   "nbconvert_exporter": "python",
   "pygments_lexer": "ipython3",
   "version": "3.12.2"
  }
 },
 "nbformat": 4,
 "nbformat_minor": 2
}

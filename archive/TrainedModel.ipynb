{
 "cells": [
  {
   "cell_type": "code",
   "execution_count": 14,
   "id": "134049b1-064f-4323-b4a4-ac132b2d7b9f",
   "metadata": {},
   "outputs": [],
   "source": [
    "import numpy as np\n",
    "import pandas as pd\n",
    "import pickle\n",
    "with open('RForestmodel.pkl', 'rb') as f:\n",
    "    model = pickle.load(f)"
   ]
  },
  {
   "cell_type": "code",
   "execution_count": 32,
   "id": "9fbb7fab-9d72-48a2-8df4-0ba54c23610e",
   "metadata": {},
   "outputs": [],
   "source": [
    "def predict(age, height, smoke, gender):\n",
    "    df = pd.DataFrame({'Age':[age],'Height':[height],'Smoke':[smoke],'Gender':[gender]})\n",
    "    print(model.predict(df)[0])"
   ]
  },
  {
   "cell_type": "code",
   "execution_count": 44,
   "id": "dd03de27-231d-4f8c-b339-f792af94043b",
   "metadata": {},
   "outputs": [
    {
     "name": "stdout",
     "output_type": "stream",
     "text": [
      "10.682250000000016\n",
      "10.856750000000002\n",
      "11.505250000000013\n"
     ]
    }
   ],
   "source": [
    "predict(21, 75, 'no', 'female')\n",
    "predict(21, 75, 'yes', 'male')\n",
    "predict(21, 75, 'no', 'male')\n"
   ]
  },
  {
   "cell_type": "code",
   "execution_count": null,
   "id": "2761ce70-06b4-4cf5-b326-36befc8a5633",
   "metadata": {},
   "outputs": [],
   "source": []
  }
 ],
 "metadata": {
  "kernelspec": {
   "display_name": "Python 3 (ipykernel)",
   "language": "python",
   "name": "python3"
  },
  "language_info": {
   "codemirror_mode": {
    "name": "ipython",
    "version": 3
   },
   "file_extension": ".py",
   "mimetype": "text/x-python",
   "name": "python",
   "nbconvert_exporter": "python",
   "pygments_lexer": "ipython3",
   "version": "3.12.2"
  }
 },
 "nbformat": 4,
 "nbformat_minor": 5
}
